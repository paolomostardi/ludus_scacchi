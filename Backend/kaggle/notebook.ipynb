{
 "cells": [
  {
   "cell_type": "code",
   "execution_count": null,
   "metadata": {},
   "outputs": [
    {
     "name": "stdout",
     "output_type": "stream",
     "text": [
      "eat my ass\n"
     ]
    }
   ],
   "source": [
    "print(\"HI im making changes to this file\")\n",
    "print(\"I am making changes to this file\")\n",
    "print(\"I am making changes to this file\")\n",
    "print(\"I am making changes to this file\")\n",
    "with open('test.txt', 'w') as file:\n",
    "    file.write(\"This is a test file.\")"
   ]
  },
  {
   "cell_type": "code",
   "execution_count": null,
   "metadata": {},
   "outputs": [],
   "source": [
    "print(\"there is more in life than just programming\")"
   ]
  },
  {
   "cell_type": "code",
   "execution_count": null,
   "metadata": {},
   "outputs": [],
   "source": []
  }
 ],
 "metadata": {
  "language_info": {
   "name": "python"
  }
 },
 "nbformat": 4,
 "nbformat_minor": 2
}
